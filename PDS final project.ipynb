{
 "cells": [
  {
   "cell_type": "markdown",
   "metadata": {},
   "source": [
    "# Are Individuals Profiting Off Of President Trump's Tweets in a Meaningful Way?\n",
    "\n",
    "The motivation for this project was sparked by [Vanity Fair's article](https://www.vanityfair.com/news/2019/10/the-mystery-of-the-trump-chaos-trades), which made claims suggesting that someone has been making large S&P 500 futures trades based on President Trump's market-moving tweets, and, as a result, has been making massive profits. \n",
    "\n",
    "*“The precision and timing of these trades, and the vast amount of money being made as a result of them, make the traders wonder … are the people behind these trades incredibly lucky, or do they have access to information that other people don’t have about, say, Trump’s or Beijing’s latest thinking on the trade war or any other of a number of ways that Trump is able to move the markets through his tweeting or slips of the tongue?”*\n",
    "<p style='text-align: right;'> <i>- Vanity Fair, October 16th, 2019</i> </p>\n",
    "\n",
    "In order for an individual to be able to profit from Trump's tweets, they would need to know about the tweet before it is posted and whether this tweet will move the market up or down. Then, prior to the tweet, the individual would need to take on their position in the S&P 500 futures securities. If the tweet would move the market up, the individual would buy futures shares, and if the tweet would move the market down, the individual would short the futures shares. Either way, the size of the long or short positions would have to be very large. After the tweet is posted, the market moves, and the individual then either sells off their long position or buys futures shares to cover their short position. The difference between the sell price and the buy price multiplied by the number of shares, minus transaction costs, is what defines the profit that this individual makes. This would also imply that the individual is directly involved in insider trading.\n",
    "\n",
    "Since the identities of all individuals making trades are protected, there is no way of identifying the matching buy and sell positions to see if anyone has made a profit based off of President Trump's tweets (unless the Securities and Exchange Commission decides to investigate this matter). Therefore, in order to be able to get an insight into this problem using data science, we will restate the question in a way that we can actually answer it: **Are Individuals Attempting to Profit off of President Trump's Tweets in a Meaningful Way?**\n",
    "\n",
    "We will be analyzing the hourly volumes of S&P 500 futures in order to answer this question. We will first determine all abnormally high volumes. Then, we will see whether the spikes in volumes that preceded a market-moving tweet by President Trump are statistically significantly different from the spikes in volumes that did not precede a market-moving tweet by the President. In the end, we will try to find our own keywords that would classify a tweet by President Donald Trump as market-moving."
   ]
  },
  {
   "cell_type": "markdown",
   "metadata": {},
   "source": [
    "Things we'll cover:\n",
    "\n",
    "0. [Importing Libraries](#0.-Importing-Libraries)\n",
    "1. [Data Collection](#1.-Data-Collection)\n",
    "2. [Overview of the S&P 500 Futures Volumes](#2.-Overview-of-the-S&P-500-Futures-Volumes)\n",
    "3. [Relationship Between Volume Spikes and Trump's Tweets](#3.-Relationship-Between-Volume-Spikes-and-Trump's-Tweets)\n",
    "4. [Finding Keywords in Trump's Tweets](#4.-Finding-Keywords-in-Trump's-Tweets)\n",
    "5. [Concluding Remarks](#5.-Concluding-Remarks)"
   ]
  },
  {
   "cell_type": "markdown",
   "metadata": {},
   "source": [
    "## 0. Importing Libraries"
   ]
  },
  {
   "cell_type": "code",
   "execution_count": 1,
   "metadata": {},
   "outputs": [
    {
     "name": "stdout",
     "output_type": "stream",
     "text": [
      "Done!\n"
     ]
    },
    {
     "name": "stderr",
     "output_type": "stream",
     "text": [
      "[nltk_data] Downloading package words to /home/vagrant/nltk_data...\n",
      "[nltk_data]   Package words is already up-to-date!\n",
      "[nltk_data] Downloading package stopwords to\n",
      "[nltk_data]     /home/vagrant/nltk_data...\n",
      "[nltk_data]   Package stopwords is already up-to-date!\n"
     ]
    }
   ],
   "source": [
    "import matplotlib.pyplot as plt\n",
    "import seaborn as sns\n",
    "import warnings\n",
    "from pylab import rcParams\n",
    "\n",
    "import pandas as pd\n",
    "import numpy as np\n",
    "\n",
    "from scipy.stats import f_oneway\n",
    "from scipy.stats import ttest_ind\n",
    "\n",
    "import json\n",
    "from sklearn.feature_extraction.text import TfidfVectorizer\n",
    "from sklearn.model_selection import train_test_split\n",
    "from sklearn.linear_model import LogisticRegression\n",
    "from sklearn.metrics import f1_score\n",
    "\n",
    "import re\n",
    "import string\n",
    "import nltk\n",
    "nltk.download('words')\n",
    "nltk.download('stopwords')\n",
    "print(\"Done!\")"
   ]
  },
  {
   "cell_type": "code",
   "execution_count": 2,
   "metadata": {},
   "outputs": [],
   "source": [
    "%matplotlib inline\n",
    "warnings.filterwarnings(\"ignore\")\n",
    "rcParams['figure.figsize'] = 20,10\n",
    "rcParams['font.size'] = 30\n",
    "sns.set()"
   ]
  },
  {
   "cell_type": "markdown",
   "metadata": {},
   "source": [
    "## 1. Data Collection\n",
    "For this project we will be using President Donald Trump's tweets, daily volumes of the S&P 500 futures traded, and hourly volumes of the S&P 500 futures traded.\n",
    "\n",
    "In order to collect President Trump's tweets, we initially tried to scrape data using the twitter API and the `twitter-python` library, but faced a limit of 3,200 most recent tweets for a given user. We then tried using the `twitterscraper` package, which allowed us to access far more tweets. However, with `twitterscraper`, we noticed that some of the output tweets were incomplete and the dataset contained duplicate tweets. Because of these data quality concerns, we resorted to downloading over 43,000 of the President's most recent tweets from an [online data source](http://www.trumptwitterarchive.com/).\n",
    "The code that we wrote for the previous two methods of tweet collection, Twitter API and Twitterscraper, are provided in the 'Twitter API' and 'Twitterscraper' files."
   ]
  },
  {
   "cell_type": "code",
   "execution_count": 3,
   "metadata": {},
   "outputs": [
    {
     "data": {
      "text/html": [
       "<div>\n",
       "<style scoped>\n",
       "    .dataframe tbody tr th:only-of-type {\n",
       "        vertical-align: middle;\n",
       "    }\n",
       "\n",
       "    .dataframe tbody tr th {\n",
       "        vertical-align: top;\n",
       "    }\n",
       "\n",
       "    .dataframe thead th {\n",
       "        text-align: right;\n",
       "    }\n",
       "</style>\n",
       "<table border=\"1\" class=\"dataframe\">\n",
       "  <thead>\n",
       "    <tr style=\"text-align: right;\">\n",
       "      <th></th>\n",
       "      <th>text</th>\n",
       "      <th>id_str</th>\n",
       "    </tr>\n",
       "    <tr>\n",
       "      <th>created_at</th>\n",
       "      <th></th>\n",
       "      <th></th>\n",
       "    </tr>\n",
       "  </thead>\n",
       "  <tbody>\n",
       "    <tr>\n",
       "      <td>2019-12-03 17:45:10+00:00</td>\n",
       "      <td>rt @whitehouse: president @realdonaldtrump jus...</td>\n",
       "      <td>1201920324234813441</td>\n",
       "    </tr>\n",
       "    <tr>\n",
       "      <td>2019-12-03 16:26:48+00:00</td>\n",
       "      <td>rt @whitehouse: president @realdonaldtrump jus...</td>\n",
       "      <td>1201900602890104834</td>\n",
       "    </tr>\n",
       "    <tr>\n",
       "      <td>2019-12-03 16:26:14+00:00</td>\n",
       "      <td>rt @whitehouse: president trump has been fight...</td>\n",
       "      <td>1201900459688103936</td>\n",
       "    </tr>\n",
       "    <tr>\n",
       "      <td>2019-12-03 15:33:08+00:00</td>\n",
       "      <td>the united states of america supports the brav...</td>\n",
       "      <td>1201887098049089538</td>\n",
       "    </tr>\n",
       "    <tr>\n",
       "      <td>2019-12-03 12:43:23+00:00</td>\n",
       "      <td>rt @repmattgaetz: nancy pelosi and other house...</td>\n",
       "      <td>1201844376009428992</td>\n",
       "    </tr>\n",
       "    <tr>\n",
       "      <td>...</td>\n",
       "      <td>...</td>\n",
       "      <td>...</td>\n",
       "    </tr>\n",
       "    <tr>\n",
       "      <td>2009-05-12 14:07:28+00:00</td>\n",
       "      <td>\"my persona will never be that of a wallflower...</td>\n",
       "      <td>1773561338</td>\n",
       "    </tr>\n",
       "    <tr>\n",
       "      <td>2009-05-08 20:40:15+00:00</td>\n",
       "      <td>new blog post: celebrity apprentice finale and...</td>\n",
       "      <td>1741160716</td>\n",
       "    </tr>\n",
       "    <tr>\n",
       "      <td>2009-05-08 13:38:08+00:00</td>\n",
       "      <td>donald trump reads top ten financial tips on l...</td>\n",
       "      <td>1737479987</td>\n",
       "    </tr>\n",
       "    <tr>\n",
       "      <td>2009-05-05 01:00:10+00:00</td>\n",
       "      <td>donald trump will be appearing on the view tom...</td>\n",
       "      <td>1701461182</td>\n",
       "    </tr>\n",
       "    <tr>\n",
       "      <td>2009-05-04 18:54:25+00:00</td>\n",
       "      <td>be sure to tune in and watch donald trump on l...</td>\n",
       "      <td>1698308935</td>\n",
       "    </tr>\n",
       "  </tbody>\n",
       "</table>\n",
       "<p>43107 rows × 2 columns</p>\n",
       "</div>"
      ],
      "text/plain": [
       "                                                                        text  \\\n",
       "created_at                                                                     \n",
       "2019-12-03 17:45:10+00:00  rt @whitehouse: president @realdonaldtrump jus...   \n",
       "2019-12-03 16:26:48+00:00  rt @whitehouse: president @realdonaldtrump jus...   \n",
       "2019-12-03 16:26:14+00:00  rt @whitehouse: president trump has been fight...   \n",
       "2019-12-03 15:33:08+00:00  the united states of america supports the brav...   \n",
       "2019-12-03 12:43:23+00:00  rt @repmattgaetz: nancy pelosi and other house...   \n",
       "...                                                                      ...   \n",
       "2009-05-12 14:07:28+00:00  \"my persona will never be that of a wallflower...   \n",
       "2009-05-08 20:40:15+00:00  new blog post: celebrity apprentice finale and...   \n",
       "2009-05-08 13:38:08+00:00  donald trump reads top ten financial tips on l...   \n",
       "2009-05-05 01:00:10+00:00  donald trump will be appearing on the view tom...   \n",
       "2009-05-04 18:54:25+00:00  be sure to tune in and watch donald trump on l...   \n",
       "\n",
       "                                        id_str  \n",
       "created_at                                      \n",
       "2019-12-03 17:45:10+00:00  1201920324234813441  \n",
       "2019-12-03 16:26:48+00:00  1201900602890104834  \n",
       "2019-12-03 16:26:14+00:00  1201900459688103936  \n",
       "2019-12-03 15:33:08+00:00  1201887098049089538  \n",
       "2019-12-03 12:43:23+00:00  1201844376009428992  \n",
       "...                                        ...  \n",
       "2009-05-12 14:07:28+00:00           1773561338  \n",
       "2009-05-08 20:40:15+00:00           1741160716  \n",
       "2009-05-08 13:38:08+00:00           1737479987  \n",
       "2009-05-05 01:00:10+00:00           1701461182  \n",
       "2009-05-04 18:54:25+00:00           1698308935  \n",
       "\n",
       "[43107 rows x 2 columns]"
      ]
     },
     "execution_count": 3,
     "metadata": {},
     "output_type": "execute_result"
    }
   ],
   "source": [
    "# Load Trump twitter data\n",
    "tweets = \"trump_tweets.txt\"\n",
    "with open(tweets, \"r\", encoding = \"ISO-8859-1\") as file:\n",
    "    data = json.loads(file.read())\n",
    "df_all_tweets = pd.DataFrame(data)\n",
    "\n",
    "# Format tweets and convert date to datetime type so we can filter based on dates\n",
    "df_all_tweets[\"text\"] = df_all_tweets[\"text\"].str.lower()\n",
    "df_all_tweets[\"created_at\"]= pd.to_datetime(df_all_tweets[\"created_at\"])\n",
    "\n",
    "df_all_tweets = df_all_tweets.set_index(\"created_at\")\n",
    "df_all_tweets"
   ]
  },
  {
   "cell_type": "markdown",
   "metadata": {},
   "source": [
    "We downloaded the S&P 500 futures volumes, both daily and hourly, from the Bloomberg Terminal as Excel files. We then converted them to csv and uploaded them using the code below."
   ]
  },
  {
   "cell_type": "code",
   "execution_count": 4,
   "metadata": {},
   "outputs": [
    {
     "data": {
      "text/html": [
       "<div>\n",
       "<style scoped>\n",
       "    .dataframe tbody tr th:only-of-type {\n",
       "        vertical-align: middle;\n",
       "    }\n",
       "\n",
       "    .dataframe tbody tr th {\n",
       "        vertical-align: top;\n",
       "    }\n",
       "\n",
       "    .dataframe thead th {\n",
       "        text-align: right;\n",
       "    }\n",
       "</style>\n",
       "<table border=\"1\" class=\"dataframe\">\n",
       "  <thead>\n",
       "    <tr style=\"text-align: right;\">\n",
       "      <th></th>\n",
       "      <th>Date</th>\n",
       "      <th>Last Price</th>\n",
       "      <th>Volume</th>\n",
       "    </tr>\n",
       "  </thead>\n",
       "  <tbody>\n",
       "    <tr>\n",
       "      <td>0</td>\n",
       "      <td>2019-12-02</td>\n",
       "      <td>3114.75</td>\n",
       "      <td>1331642</td>\n",
       "    </tr>\n",
       "    <tr>\n",
       "      <td>1</td>\n",
       "      <td>2019-11-29</td>\n",
       "      <td>3143.75</td>\n",
       "      <td>902189</td>\n",
       "    </tr>\n",
       "    <tr>\n",
       "      <td>2</td>\n",
       "      <td>2019-11-27</td>\n",
       "      <td>3153.75</td>\n",
       "      <td>928792</td>\n",
       "    </tr>\n",
       "    <tr>\n",
       "      <td>3</td>\n",
       "      <td>2019-11-26</td>\n",
       "      <td>3143.75</td>\n",
       "      <td>1068011</td>\n",
       "    </tr>\n",
       "    <tr>\n",
       "      <td>4</td>\n",
       "      <td>2019-11-25</td>\n",
       "      <td>3132.75</td>\n",
       "      <td>947831</td>\n",
       "    </tr>\n",
       "    <tr>\n",
       "      <td>...</td>\n",
       "      <td>...</td>\n",
       "      <td>...</td>\n",
       "      <td>...</td>\n",
       "    </tr>\n",
       "    <tr>\n",
       "      <td>2522</td>\n",
       "      <td>2009-12-01</td>\n",
       "      <td>1108.50</td>\n",
       "      <td>1835688</td>\n",
       "    </tr>\n",
       "    <tr>\n",
       "      <td>2523</td>\n",
       "      <td>2009-11-30</td>\n",
       "      <td>1094.75</td>\n",
       "      <td>2016591</td>\n",
       "    </tr>\n",
       "    <tr>\n",
       "      <td>2524</td>\n",
       "      <td>2009-11-27</td>\n",
       "      <td>1089.50</td>\n",
       "      <td>1704981</td>\n",
       "    </tr>\n",
       "    <tr>\n",
       "      <td>2525</td>\n",
       "      <td>2009-11-25</td>\n",
       "      <td>1109.00</td>\n",
       "      <td>1078340</td>\n",
       "    </tr>\n",
       "    <tr>\n",
       "      <td>2526</td>\n",
       "      <td>2009-11-24</td>\n",
       "      <td>1103.00</td>\n",
       "      <td>1584089</td>\n",
       "    </tr>\n",
       "  </tbody>\n",
       "</table>\n",
       "<p>2527 rows × 3 columns</p>\n",
       "</div>"
      ],
      "text/plain": [
       "           Date  Last Price   Volume\n",
       "0    2019-12-02     3114.75  1331642\n",
       "1    2019-11-29     3143.75   902189\n",
       "2    2019-11-27     3153.75   928792\n",
       "3    2019-11-26     3143.75  1068011\n",
       "4    2019-11-25     3132.75   947831\n",
       "...         ...         ...      ...\n",
       "2522 2009-12-01     1108.50  1835688\n",
       "2523 2009-11-30     1094.75  2016591\n",
       "2524 2009-11-27     1089.50  1704981\n",
       "2525 2009-11-25     1109.00  1078340\n",
       "2526 2009-11-24     1103.00  1584089\n",
       "\n",
       "[2527 rows x 3 columns]"
      ]
     },
     "execution_count": 4,
     "metadata": {},
     "output_type": "execute_result"
    }
   ],
   "source": [
    "# Load the daily S&P 500 futures data from Nov. 2009 - Dec. 2019\n",
    "df_daily = pd.read_csv('Daily.csv')\n",
    "\n",
    "# Convert date to datetime type so we can filter based on dates\n",
    "df_daily['Date'] = pd.to_datetime(df_daily['Date'])\n",
    "df_daily"
   ]
  },
  {
   "cell_type": "code",
   "execution_count": 5,
   "metadata": {},
   "outputs": [
    {
     "data": {
      "text/html": [
       "<div>\n",
       "<style scoped>\n",
       "    .dataframe tbody tr th:only-of-type {\n",
       "        vertical-align: middle;\n",
       "    }\n",
       "\n",
       "    .dataframe tbody tr th {\n",
       "        vertical-align: top;\n",
       "    }\n",
       "\n",
       "    .dataframe thead th {\n",
       "        text-align: right;\n",
       "    }\n",
       "</style>\n",
       "<table border=\"1\" class=\"dataframe\">\n",
       "  <thead>\n",
       "    <tr style=\"text-align: right;\">\n",
       "      <th></th>\n",
       "      <th>Time Interval</th>\n",
       "      <th>Volume</th>\n",
       "    </tr>\n",
       "  </thead>\n",
       "  <tbody>\n",
       "    <tr>\n",
       "      <td>0</td>\n",
       "      <td>2019-12-02 12:00:00</td>\n",
       "      <td>151396.0</td>\n",
       "    </tr>\n",
       "    <tr>\n",
       "      <td>1</td>\n",
       "      <td>2019-12-02 11:00:00</td>\n",
       "      <td>216579.0</td>\n",
       "    </tr>\n",
       "    <tr>\n",
       "      <td>2</td>\n",
       "      <td>2019-12-02 10:00:00</td>\n",
       "      <td>479666.0</td>\n",
       "    </tr>\n",
       "    <tr>\n",
       "      <td>3</td>\n",
       "      <td>2019-12-02 09:00:00</td>\n",
       "      <td>229054.0</td>\n",
       "    </tr>\n",
       "    <tr>\n",
       "      <td>4</td>\n",
       "      <td>2019-12-02 08:00:00</td>\n",
       "      <td>32560.0</td>\n",
       "    </tr>\n",
       "    <tr>\n",
       "      <td>...</td>\n",
       "      <td>...</td>\n",
       "      <td>...</td>\n",
       "    </tr>\n",
       "    <tr>\n",
       "      <td>5970</td>\n",
       "      <td>2018-11-25 22:00:00</td>\n",
       "      <td>8206.0</td>\n",
       "    </tr>\n",
       "    <tr>\n",
       "      <td>5971</td>\n",
       "      <td>2018-11-25 21:00:00</td>\n",
       "      <td>7477.0</td>\n",
       "    </tr>\n",
       "    <tr>\n",
       "      <td>5972</td>\n",
       "      <td>2018-11-25 20:00:00</td>\n",
       "      <td>9596.0</td>\n",
       "    </tr>\n",
       "    <tr>\n",
       "      <td>5973</td>\n",
       "      <td>2018-11-25 19:00:00</td>\n",
       "      <td>10696.0</td>\n",
       "    </tr>\n",
       "    <tr>\n",
       "      <td>5974</td>\n",
       "      <td>2018-11-25 18:00:00</td>\n",
       "      <td>13886.0</td>\n",
       "    </tr>\n",
       "  </tbody>\n",
       "</table>\n",
       "<p>5975 rows × 2 columns</p>\n",
       "</div>"
      ],
      "text/plain": [
       "           Time Interval    Volume\n",
       "0    2019-12-02 12:00:00  151396.0\n",
       "1    2019-12-02 11:00:00  216579.0\n",
       "2    2019-12-02 10:00:00  479666.0\n",
       "3    2019-12-02 09:00:00  229054.0\n",
       "4    2019-12-02 08:00:00   32560.0\n",
       "...                  ...       ...\n",
       "5970 2018-11-25 22:00:00    8206.0\n",
       "5971 2018-11-25 21:00:00    7477.0\n",
       "5972 2018-11-25 20:00:00    9596.0\n",
       "5973 2018-11-25 19:00:00   10696.0\n",
       "5974 2018-11-25 18:00:00   13886.0\n",
       "\n",
       "[5975 rows x 2 columns]"
      ]
     },
     "execution_count": 5,
     "metadata": {},
     "output_type": "execute_result"
    }
   ],
   "source": [
    "# Load the hourly intraday volumes\n",
    "df_hourly = pd.read_csv(\"Intraday.csv\").dropna()\n",
    "df_hourly[\"Time Interval\"] = pd.to_datetime(df_hourly[\"Time Interval\"])\n",
    "\n",
    "# Only keep the time interval and volume columns\n",
    "df_hourly = df_hourly[[\"Time Interval\", \"Volume\"]]\n",
    "df_hourly"
   ]
  },
  {
   "cell_type": "markdown",
   "metadata": {},
   "source": [
    "## 2. Overview of the S&P 500 Futures Volumes\n",
    "Before we try to answer the underlying question of this project, we will first explore how the S&P 500 futures trading volumes have changed from 2009 to 2019. We are especially interested in determining whether there are noticeably different fluctuations in the futures volumes traded before Trump's presidency as compared to during his presidency.\n",
    "\n",
    "We only used the S&P 500 futures daily data starting in year 2009 as the market downturn in 2008 would skew our results. The dashed line on the plot below represents President Trump's inauguration date, January 20th, 2017."
   ]
  },
  {
   "cell_type": "code",
   "execution_count": 6,
   "metadata": {},
   "outputs": [
    {
     "data": {
      "text/plain": [
       "Text(2017-03-20, 5932134.495, \"Trump's Inauguration\")"
      ]
     },
     "execution_count": 6,
     "metadata": {},
     "output_type": "execute_result"
    },
    {
     "data": {
      "image/png": "[encoded data removed]",
      "text/plain": [
       "<Figure size 1440x720 with 1 Axes>"
      ]
     },
     "metadata": {},
     "output_type": "display_data"
    }
   ],
   "source": [
    "# Plot daily volumes\n",
    "plt.figure()\n",
    "plt.plot(df_daily['Date'], df_daily['Volume'])\n",
    "plt.axvline('2017-01-20', color='k', linestyle=\"dashed\", linewidth=2)\n",
    "_, ymax = plt.ylim()\n",
    "plt.text('2017-03-20' , ymax - ymax / 10,\n",
    "        \"Trump's Inauguration\",)"
   ]
  },
  {
   "cell_type": "markdown",
   "metadata": {},
   "source": [
    "From first glance, it seems like there were two large spikes in daily volumes traded in the years 2010 and 2012, followed by a relatively consistent trading volume period. However, starting in year 2015, there appears to be more volatility in the volumes. This is potentially interesting as the presidential elections were held in 2016.\n",
    "\n",
    "We will run an independent t-test to see if the volumes traded before Trump's presidency differ from those traded during Trump's presidency.\n",
    "\n",
    "First, we split the dataset into futures volumes traded before and after President Trump's inauguration day."
   ]
  },
  {
   "cell_type": "code",
   "execution_count": 7,
   "metadata": {},
   "outputs": [
    {
     "name": "stdout",
     "output_type": "stream",
     "text": [
      "Size of vol_before dataset:  1804\n",
      "Size of vol_after dataset:  723\n"
     ]
    }
   ],
   "source": [
    "# Futures volumes before and after Trump's inauguration day (Jan 20, 2017)\n",
    "df_before = df_daily[(df_daily['Date'] < '2017-01-20')]\n",
    "df_after = df_daily[(df_daily['Date'] >= '2017-01-20')]\n",
    "\n",
    "vol_before = np.array(df_before['Volume'])\n",
    "vol_after = np.array(df_after['Volume'])\n",
    "\n",
    "print('Size of vol_before dataset: ', vol_before.size)\n",
    "print('Size of vol_after dataset: ', vol_after.size)"
   ]
  },
  {
   "cell_type": "markdown",
   "metadata": {},
   "source": [
    "Now, let's see the volume distributions of the two datasets."
   ]
  },
  {
   "cell_type": "code",
   "execution_count": 8,
   "metadata": {},
   "outputs": [
    {
     "data": {
      "text/plain": [
       "Text(231892.69432918378, 1.209766848899061e-06, 'Mean after: 1391356')"
      ]
     },
     "execution_count": 8,
     "metadata": {},
     "output_type": "execute_result"
    },
    {
     "data": {
      "image/png": "[encoded data removed]",
      "text/plain": [
       "<Figure size 1440x720 with 1 Axes>"
      ]
     },
     "metadata": {},
     "output_type": "display_data"
    }
   ],
   "source": [
    "# Plot distribution before Trump's presidency\n",
    "plt.figure()\n",
    "ax1 = sns.distplot(vol_before)\n",
    "plt.axvline(np.mean(vol_before), color='b', linestyle='dashed', linewidth=2)\n",
    "_, ymax = plt.ylim()\n",
    "plt.text(vol_before.mean() + vol_before.mean() / 10, ymax - ymax / 10,\n",
    "        \"Mean before: {:.0f}\".format(vol_before.mean()),)\n",
    "\n",
    "# Plot distribution after Trump's presidency\n",
    "ax2 = sns.distplot(vol_after)\n",
    "plt.axvline(np.mean(vol_after), color='orange', linestyle='dashed', linewidth=2)\n",
    "_, ymax = plt.ylim()\n",
    "plt.text(vol_after.mean() - vol_after.mean() / 1.2 , ymax - ymax / 10,\n",
    "        \"Mean after: {:.0f}\".format(vol_after.mean()),)"
   ]
  },
  {
   "cell_type": "markdown",
   "metadata": {},
   "source": [
    "Interestingly, the mean daily volume of S&P 500 futures trades is lower during the years of Trump's presidency than in the years before the presidency. Let's finally run the independent t-test to determine if this difference in the two distributions is statistically significant.\n",
    "\n",
    "We will define a helper function, `run_ttest_ind`, that will provide us with the result of the independent t-test, given two datasets and an alpha at which we would reject the $H_o$ hypothesis."
   ]
  },
  {
   "cell_type": "code",
   "execution_count": 9,
   "metadata": {},
   "outputs": [],
   "source": [
    "def run_ttest_ind(A, B, alpha, ho, ha):\n",
    "    stat, p = ttest_ind(A, B)\n",
    "    print('Statistics=%.4f, p=%.4f' % (stat, p))\n",
    "    if p > alpha:\n",
    "        print('Fail to reject H0: ' + ho)\n",
    "    else:\n",
    "        print('Reject H0: ' + ha)"
   ]
  },
  {
   "cell_type": "markdown",
   "metadata": {},
   "source": [
    "In this case we define our $H_o$ and $H_a$ as follows:\n",
    "\n",
    "$H_o$: Volumes traded before and during Trump's presidency are the same\n",
    "\n",
    "$H_a$: Volumes traded before and during Trump's presidency are different"
   ]
  },
  {
   "cell_type": "code",
   "execution_count": 10,
   "metadata": {},
   "outputs": [
    {
     "name": "stdout",
     "output_type": "stream",
     "text": [
      "Statistics=9.9114, p=0.0000\n",
      "Reject H0: Volumes are different\n"
     ]
    }
   ],
   "source": [
    "run_ttest_ind(vol_before, vol_after, 0.01, 'Volumes are the same', 'Volumes are different')"
   ]
  },
  {
   "cell_type": "markdown",
   "metadata": {},
   "source": [
    "Somewhat surprisingly, the volumes have changed between the two time periods significantly. S&P 500 futures volumes have decreased to a statistically significant level since Trump's presidency."
   ]
  },
  {
   "cell_type": "markdown",
   "metadata": {},
   "source": [
    "## 3. Relationship Between Volume Spikes and Trump's Tweets\n",
    "We will now explore the underlying question of this project: **Are Individuals Attempting to Profit off of President Trump's Tweets in a Meaningful Way?**\n",
    "\n",
    "In order for the answer to this question to be yes, the individuals would need to either buy a significant amount of the futures shares or short them right before the President's tweet is sent.\n",
    "\n",
    "Therefore, in order to answer the question, we will analyze S&P 500 futures volumes traded on an hourly basis for a time period between Nov. 2018 and Dec. 2019. We will begin by finding all abnormal volume spikes and datetimes during which they occurred. Then, we will see if these spikes happened right before a significant tweet was sent by President Donald Trump. We will define the president's tweet as significant if it contains at least one of the keywords from JP Morgan's set of keywords. We will also define 'right before' as 2 hours or less before the President tweeted.\n",
    "\n",
    "The keywords that JP Morgan came up with are part of their Volfefe Index, which measures the impact of Trump's tweets on the markets. Unfortunately, not all of the words that JP Morgan uses are publicly available, but a subset of the more popular words can be found [here](https://markets.businessinsider.com/news/stocks/jpmorgan-volvefe-index-on-impact-of-trump-tweets-on-market-volatility-2019-9-1028508499).\n",
    "\n",
    "Let's first get a sense of the tweet dataframe that we loaded earlier."
   ]
  },
  {
   "cell_type": "code",
   "execution_count": 11,
   "metadata": {},
   "outputs": [
    {
     "data": {
      "text/html": [
       "<div>\n",
       "<style scoped>\n",
       "    .dataframe tbody tr th:only-of-type {\n",
       "        vertical-align: middle;\n",
       "    }\n",
       "\n",
       "    .dataframe tbody tr th {\n",
       "        vertical-align: top;\n",
       "    }\n",
       "\n",
       "    .dataframe thead th {\n",
       "        text-align: right;\n",
       "    }\n",
       "</style>\n",
       "<table border=\"1\" class=\"dataframe\">\n",
       "  <thead>\n",
       "    <tr style=\"text-align: right;\">\n",
       "      <th></th>\n",
       "      <th>text</th>\n",
       "      <th>id_str</th>\n",
       "    </tr>\n",
       "    <tr>\n",
       "      <th>created_at</th>\n",
       "      <th></th>\n",
       "      <th></th>\n",
       "    </tr>\n",
       "  </thead>\n",
       "  <tbody>\n",
       "    <tr>\n",
       "      <td>2019-12-03 17:45:10+00:00</td>\n",
       "      <td>rt @whitehouse: president @realdonaldtrump jus...</td>\n",
       "      <td>1201920324234813441</td>\n",
       "    </tr>\n",
       "    <tr>\n",
       "      <td>2019-12-03 16:26:48+00:00</td>\n",
       "      <td>rt @whitehouse: president @realdonaldtrump jus...</td>\n",
       "      <td>1201900602890104834</td>\n",
       "    </tr>\n",
       "    <tr>\n",
       "      <td>2019-12-03 16:26:14+00:00</td>\n",
       "      <td>rt @whitehouse: president trump has been fight...</td>\n",
       "      <td>1201900459688103936</td>\n",
       "    </tr>\n",
       "    <tr>\n",
       "      <td>2019-12-03 15:33:08+00:00</td>\n",
       "      <td>the united states of america supports the brav...</td>\n",
       "      <td>1201887098049089538</td>\n",
       "    </tr>\n",
       "    <tr>\n",
       "      <td>2019-12-03 12:43:23+00:00</td>\n",
       "      <td>rt @repmattgaetz: nancy pelosi and other house...</td>\n",
       "      <td>1201844376009428992</td>\n",
       "    </tr>\n",
       "    <tr>\n",
       "      <td>...</td>\n",
       "      <td>...</td>\n",
       "      <td>...</td>\n",
       "    </tr>\n",
       "    <tr>\n",
       "      <td>2009-05-12 14:07:28+00:00</td>\n",
       "      <td>\"my persona will never be that of a wallflower...</td>\n",
       "      <td>1773561338</td>\n",
       "    </tr>\n",
       "    <tr>\n",
       "      <td>2009-05-08 20:40:15+00:00</td>\n",
       "      <td>new blog post: celebrity apprentice finale and...</td>\n",
       "      <td>1741160716</td>\n",
       "    </tr>\n",
       "    <tr>\n",
       "      <td>2009-05-08 13:38:08+00:00</td>\n",
       "      <td>donald trump reads top ten financial tips on l...</td>\n",
       "      <td>1737479987</td>\n",
       "    </tr>\n",
       "    <tr>\n",
       "      <td>2009-05-05 01:00:10+00:00</td>\n",
       "      <td>donald trump will be appearing on the view tom...</td>\n",
       "      <td>1701461182</td>\n",
       "    </tr>\n",
       "    <tr>\n",
       "      <td>2009-05-04 18:54:25+00:00</td>\n",
       "      <td>be sure to tune in and watch donald trump on l...</td>\n",
       "      <td>1698308935</td>\n",
       "    </tr>\n",
       "  </tbody>\n",
       "</table>\n",
       "<p>43107 rows × 2 columns</p>\n",
       "</div>"
      ],
      "text/plain": [
       "                                                                        text  \\\n",
       "created_at                                                                     \n",
       "2019-12-03 17:45:10+00:00  rt @whitehouse: president @realdonaldtrump jus...   \n",
       "2019-12-03 16:26:48+00:00  rt @whitehouse: president @realdonaldtrump jus...   \n",
       "2019-12-03 16:26:14+00:00  rt @whitehouse: president trump has been fight...   \n",
       "2019-12-03 15:33:08+00:00  the united states of america supports the brav...   \n",
       "2019-12-03 12:43:23+00:00  rt @repmattgaetz: nancy pelosi and other house...   \n",
       "...                                                                      ...   \n",
       "2009-05-12 14:07:28+00:00  \"my persona will never be that of a wallflower...   \n",
       "2009-05-08 20:40:15+00:00  new blog post: celebrity apprentice finale and...   \n",
       "2009-05-08 13:38:08+00:00  donald trump reads top ten financial tips on l...   \n",
       "2009-05-05 01:00:10+00:00  donald trump will be appearing on the view tom...   \n",
       "2009-05-04 18:54:25+00:00  be sure to tune in and watch donald trump on l...   \n",
       "\n",
       "                                        id_str  \n",
       "created_at                                      \n",
       "2019-12-03 17:45:10+00:00  1201920324234813441  \n",
       "2019-12-03 16:26:48+00:00  1201900602890104834  \n",
       "2019-12-03 16:26:14+00:00  1201900459688103936  \n",
       "2019-12-03 15:33:08+00:00  1201887098049089538  \n",
       "2019-12-03 12:43:23+00:00  1201844376009428992  \n",
       "...                                        ...  \n",
       "2009-05-12 14:07:28+00:00           1773561338  \n",
       "2009-05-08 20:40:15+00:00           1741160716  \n",
       "2009-05-08 13:38:08+00:00           1737479987  \n",
       "2009-05-05 01:00:10+00:00           1701461182  \n",
       "2009-05-04 18:54:25+00:00           1698308935  \n",
       "\n",
       "[43107 rows x 2 columns]"
      ]
     },
     "execution_count": 11,
     "metadata": {},
     "output_type": "execute_result"
    }
   ],
   "source": [
    "df_all_tweets"
   ]
  },
  {
   "cell_type": "markdown",
   "metadata": {},
   "source": [
    "Great! We have over 43 thousand tweets and their corresponding times that go all the way back to 2009.\n",
    "\n",
    "What about the hourly volumes of S&P 500 futures? "
   ]
  },
  {
   "cell_type": "code",
   "execution_count": 12,
   "metadata": {},
   "outputs": [
    {
     "data": {
      "text/html": [
       "<div>\n",
       "<style scoped>\n",
       "    .dataframe tbody tr th:only-of-type {\n",
       "        vertical-align: middle;\n",
       "    }\n",
       "\n",
       "    .dataframe tbody tr th {\n",
       "        vertical-align: top;\n",
       "    }\n",
       "\n",
       "    .dataframe thead th {\n",
       "        text-align: right;\n",
       "    }\n",
       "</style>\n",
       "<table border=\"1\" class=\"dataframe\">\n",
       "  <thead>\n",
       "    <tr style=\"text-align: right;\">\n",
       "      <th></th>\n",
       "      <th>Time Interval</th>\n",
       "      <th>Volume</th>\n",
       "    </tr>\n",
       "  </thead>\n",
       "  <tbody>\n",
       "    <tr>\n",
       "      <td>0</td>\n",
       "      <td>2019-12-02 12:00:00</td>\n",
       "      <td>151396.0</td>\n",
       "    </tr>\n",
       "    <tr>\n",
       "      <td>1</td>\n",
       "      <td>2019-12-02 11:00:00</td>\n",
       "      <td>216579.0</td>\n",
       "    </tr>\n",
       "    <tr>\n",
       "      <td>2</td>\n",
       "      <td>2019-12-02 10:00:00</td>\n",
       "      <td>479666.0</td>\n",
       "    </tr>\n",
       "    <tr>\n",
       "      <td>3</td>\n",
       "      <td>2019-12-02 09:00:00</td>\n",
       "      <td>229054.0</td>\n",
       "    </tr>\n",
       "    <tr>\n",
       "      <td>4</td>\n",
       "      <td>2019-12-02 08:00:00</td>\n",
       "      <td>32560.0</td>\n",
       "    </tr>\n",
       "    <tr>\n",
       "      <td>...</td>\n",
       "      <td>...</td>\n",
       "      <td>...</td>\n",
       "    </tr>\n",
       "    <tr>\n",
       "      <td>5970</td>\n",
       "      <td>2018-11-25 22:00:00</td>\n",
       "      <td>8206.0</td>\n",
       "    </tr>\n",
       "    <tr>\n",
       "      <td>5971</td>\n",
       "      <td>2018-11-25 21:00:00</td>\n",
       "      <td>7477.0</td>\n",
       "    </tr>\n",
       "    <tr>\n",
       "      <td>5972</td>\n",
       "      <td>2018-11-25 20:00:00</td>\n",
       "      <td>9596.0</td>\n",
       "    </tr>\n",
       "    <tr>\n",
       "      <td>5973</td>\n",
       "      <td>2018-11-25 19:00:00</td>\n",
       "      <td>10696.0</td>\n",
       "    </tr>\n",
       "    <tr>\n",
       "      <td>5974</td>\n",
       "      <td>2018-11-25 18:00:00</td>\n",
       "      <td>13886.0</td>\n",
       "    </tr>\n",
       "  </tbody>\n",
       "</table>\n",
       "<p>5975 rows × 2 columns</p>\n",
       "</div>"
      ],
      "text/plain": [
       "           Time Interval    Volume\n",
       "0    2019-12-02 12:00:00  151396.0\n",
       "1    2019-12-02 11:00:00  216579.0\n",
       "2    2019-12-02 10:00:00  479666.0\n",
       "3    2019-12-02 09:00:00  229054.0\n",
       "4    2019-12-02 08:00:00   32560.0\n",
       "...                  ...       ...\n",
       "5970 2018-11-25 22:00:00    8206.0\n",
       "5971 2018-11-25 21:00:00    7477.0\n",
       "5972 2018-11-25 20:00:00    9596.0\n",
       "5973 2018-11-25 19:00:00   10696.0\n",
       "5974 2018-11-25 18:00:00   13886.0\n",
       "\n",
       "[5975 rows x 2 columns]"
      ]
     },
     "execution_count": 12,
     "metadata": {},
     "output_type": "execute_result"
    }
   ],
   "source": [
    "df_hourly"
   ]
  },
  {
   "cell_type": "markdown",
   "metadata": {},
   "source": [
    "Here we have nearly 6 thousand data points that begin on November 24, 2018. In order to avoid redundant computations, we'll reduce the twitter data to span the same time period as our hourly market data."
   ]
  },
  {
   "cell_type": "code",
   "execution_count": 13,
   "metadata": {},
   "outputs": [
    {
     "data": {
      "text/plain": [
       "7107"
      ]
     },
     "execution_count": 13,
     "metadata": {},
     "output_type": "execute_result"
    }
   ],
   "source": [
    "df_tweets = df_all_tweets.loc[:'2018-11-24']\n",
    "df_tweets.index.size"
   ]
  },
  {
   "cell_type": "markdown",
   "metadata": {},
   "source": [
    "Now we'll find all significant tweets, which must contain at least one of the publically available JP Morgan's keywords."
   ]
  },
  {
   "cell_type": "code",
   "execution_count": 14,
   "metadata": {},
   "outputs": [
    {
     "data": {
      "text/plain": [
       "3975"
      ]
     },
     "execution_count": 14,
     "metadata": {},
     "output_type": "execute_result"
    }
   ],
   "source": [
    "# Find tweets that contain keywords\n",
    "keywords = [\"china\", \"billions\", \"products\", \"democrats\", \n",
    "            \"great\", \"dollars\", \"tariffs\", \"country\", \n",
    "            \"mueller\", \"border\", \"president\", \"congressman\", \n",
    "            \"people\", \"korea\", \"party\", \"years\", \n",
    "            \"farmers\", \"going\", \"trade\", \"never\"]\n",
    "\n",
    "df_signif_tweets = df_tweets[df_tweets[\"text\"].str.contains('|'.join(keywords))]\n",
    "df_signif_tweets.index.size"
   ]
  },
  {
   "cell_type": "markdown",
   "metadata": {},
   "source": [
    "This leaves us with nearly 4 thousand significant tweets spanning a little over a year.\n",
    "\n",
    "Next, we will compute a set of abnormally high hourly futures volumes traded. We will consider the hourly volume to be abnormally high if it is at least one standard deviation above the mean hourly volume."
   ]
  },
  {
   "cell_type": "code",
   "execution_count": 15,
   "metadata": {},
   "outputs": [],
   "source": [
    "# Statistics of all intraday volumes\n",
    "mean = df_hourly[\"Volume\"].mean()\n",
    "std = df_hourly[\"Volume\"].std()\n",
    "\n",
    "# Function that returns 1 if the volume is abnormally high\n",
    "def abnormal_volume(row):\n",
    "    if row[\"Volume\"] > mean + std:\n",
    "        return 1\n",
    "    else:\n",
    "        return 0\n",
    "    \n",
    "df_hourly[\"Abnormal\"] = df_hourly.apply(lambda row: abnormal_volume(row), axis=1)"
   ]
  },
  {
   "cell_type": "markdown",
   "metadata": {},
   "source": [
    "Let's see what percentage of the hourly volumes were abnormal."
   ]
  },
  {
   "cell_type": "code",
   "execution_count": 16,
   "metadata": {},
   "outputs": [
    {
     "data": {
      "text/plain": [
       "0.15514644351464435"
      ]
     },
     "execution_count": 16,
     "metadata": {},
     "output_type": "execute_result"
    }
   ],
   "source": [
    "df_hourly['Abnormal'].sum() / df_hourly['Abnormal'].count()"
   ]
  },
  {
   "cell_type": "markdown",
   "metadata": {},
   "source": [
    "Our goal is to find abnormal volumes that occurred at most two hours before Trump's significant tweet. Therefore, for each abnormal hourly volume amount, we will see if Trump tweeted within the next two hours. In other words, we will separate all individual hours with abnormal volumes into two sets - one set of abnormal hourly volumes that were followed by a significant tweet within the next two hours, and a second set containing abnormal volumes that were not soon followed by a significant tweet."
   ]
  },
  {
   "cell_type": "code",
   "execution_count": 17,
   "metadata": {},
   "outputs": [
    {
     "data": {
      "text/html": [
       "<div>\n",
       "<style scoped>\n",
       "    .dataframe tbody tr th:only-of-type {\n",
       "        vertical-align: middle;\n",
       "    }\n",
       "\n",
       "    .dataframe tbody tr th {\n",
       "        vertical-align: top;\n",
       "    }\n",
       "\n",
       "    .dataframe thead th {\n",
       "        text-align: right;\n",
       "    }\n",
       "</style>\n",
       "<table border=\"1\" class=\"dataframe\">\n",
       "  <thead>\n",
       "    <tr style=\"text-align: right;\">\n",
       "      <th></th>\n",
       "      <th>Time Interval</th>\n",
       "      <th>Volume</th>\n",
       "      <th>Abnormal</th>\n",
       "    </tr>\n",
       "  </thead>\n",
       "  <tbody>\n",
       "    <tr>\n",
       "      <td>0</td>\n",
       "      <td>2019-12-02 12:00:00</td>\n",
       "      <td>151396.0</td>\n",
       "      <td>1</td>\n",
       "    </tr>\n",
       "    <tr>\n",
       "      <td>1</td>\n",
       "      <td>2019-12-02 11:00:00</td>\n",
       "      <td>216579.0</td>\n",
       "      <td>1</td>\n",
       "    </tr>\n",
       "    <tr>\n",
       "      <td>2</td>\n",
       "      <td>2019-12-02 10:00:00</td>\n",
       "      <td>479666.0</td>\n",
       "      <td>1</td>\n",
       "    </tr>\n",
       "    <tr>\n",
       "      <td>3</td>\n",
       "      <td>2019-12-02 09:00:00</td>\n",
       "      <td>229054.0</td>\n",
       "      <td>1</td>\n",
       "    </tr>\n",
       "    <tr>\n",
       "      <td>20</td>\n",
       "      <td>2019-11-29 12:00:00</td>\n",
       "      <td>210040.0</td>\n",
       "      <td>1</td>\n",
       "    </tr>\n",
       "    <tr>\n",
       "      <td>...</td>\n",
       "      <td>...</td>\n",
       "      <td>...</td>\n",
       "      <td>...</td>\n",
       "    </tr>\n",
       "    <tr>\n",
       "      <td>5935</td>\n",
       "      <td>2018-11-27 10:00:00</td>\n",
       "      <td>247063.0</td>\n",
       "      <td>1</td>\n",
       "    </tr>\n",
       "    <tr>\n",
       "      <td>5936</td>\n",
       "      <td>2018-11-27 09:00:00</td>\n",
       "      <td>211883.0</td>\n",
       "      <td>1</td>\n",
       "    </tr>\n",
       "    <tr>\n",
       "      <td>5953</td>\n",
       "      <td>2018-11-26 15:00:00</td>\n",
       "      <td>197177.0</td>\n",
       "      <td>1</td>\n",
       "    </tr>\n",
       "    <tr>\n",
       "      <td>5958</td>\n",
       "      <td>2018-11-26 10:00:00</td>\n",
       "      <td>207901.0</td>\n",
       "      <td>1</td>\n",
       "    </tr>\n",
       "    <tr>\n",
       "      <td>5959</td>\n",
       "      <td>2018-11-26 09:00:00</td>\n",
       "      <td>199490.0</td>\n",
       "      <td>1</td>\n",
       "    </tr>\n",
       "  </tbody>\n",
       "</table>\n",
       "<p>927 rows × 3 columns</p>\n",
       "</div>"
      ],
      "text/plain": [
       "           Time Interval    Volume  Abnormal\n",
       "0    2019-12-02 12:00:00  151396.0         1\n",
       "1    2019-12-02 11:00:00  216579.0         1\n",
       "2    2019-12-02 10:00:00  479666.0         1\n",
       "3    2019-12-02 09:00:00  229054.0         1\n",
       "20   2019-11-29 12:00:00  210040.0         1\n",
       "...                  ...       ...       ...\n",
       "5935 2018-11-27 10:00:00  247063.0         1\n",
       "5936 2018-11-27 09:00:00  211883.0         1\n",
       "5953 2018-11-26 15:00:00  197177.0         1\n",
       "5958 2018-11-26 10:00:00  207901.0         1\n",
       "5959 2018-11-26 09:00:00  199490.0         1\n",
       "\n",
       "[927 rows x 3 columns]"
      ]
     },
     "execution_count": 17,
     "metadata": {},
     "output_type": "execute_result"
    }
   ],
   "source": [
    "# Filter intraday data to only keep abnormal volumes\n",
    "df_hourly_abn = df_hourly[df_hourly['Abnormal'] == 1]\n",
    "df_hourly_abn"
   ]
  },
  {
   "cell_type": "code",
   "execution_count": 18,
   "metadata": {},
   "outputs": [
    {
     "data": {
      "text/html": [
       "<div>\n",
       "<style scoped>\n",
       "    .dataframe tbody tr th:only-of-type {\n",
       "        vertical-align: middle;\n",
       "    }\n",
       "\n",
       "    .dataframe tbody tr th {\n",
       "        vertical-align: top;\n",
       "    }\n",
       "\n",
       "    .dataframe thead th {\n",
       "        text-align: right;\n",
       "    }\n",
       "</style>\n",
       "<table border=\"1\" class=\"dataframe\">\n",
       "  <thead>\n",
       "    <tr style=\"text-align: right;\">\n",
       "      <th></th>\n",
       "      <th>Time Interval</th>\n",
       "      <th>Volume</th>\n",
       "      <th>Abnormal</th>\n",
       "      <th>Tweeted</th>\n",
       "    </tr>\n",
       "  </thead>\n",
       "  <tbody>\n",
       "    <tr>\n",
       "      <td>0</td>\n",
       "      <td>2019-12-02 12:00:00</td>\n",
       "      <td>151396.0</td>\n",
       "      <td>1</td>\n",
       "      <td>1</td>\n",
       "    </tr>\n",
       "    <tr>\n",
       "      <td>1</td>\n",
       "      <td>2019-12-02 11:00:00</td>\n",
       "      <td>216579.0</td>\n",
       "      <td>1</td>\n",
       "      <td>1</td>\n",
       "    </tr>\n",
       "    <tr>\n",
       "      <td>2</td>\n",
       "      <td>2019-12-02 10:00:00</td>\n",
       "      <td>479666.0</td>\n",
       "      <td>1</td>\n",
       "      <td>1</td>\n",
       "    </tr>\n",
       "    <tr>\n",
       "      <td>3</td>\n",
       "      <td>2019-12-02 09:00:00</td>\n",
       "      <td>229054.0</td>\n",
       "      <td>1</td>\n",
       "      <td>1</td>\n",
       "    </tr>\n",
       "    <tr>\n",
       "      <td>20</td>\n",
       "      <td>2019-11-29 12:00:00</td>\n",
       "      <td>210040.0</td>\n",
       "      <td>1</td>\n",
       "      <td>1</td>\n",
       "    </tr>\n",
       "    <tr>\n",
       "      <td>...</td>\n",
       "      <td>...</td>\n",
       "      <td>...</td>\n",
       "      <td>...</td>\n",
       "      <td>...</td>\n",
       "    </tr>\n",
       "    <tr>\n",
       "      <td>5935</td>\n",
       "      <td>2018-11-27 10:00:00</td>\n",
       "      <td>247063.0</td>\n",
       "      <td>1</td>\n",
       "      <td>1</td>\n",
       "    </tr>\n",
       "    <tr>\n",
       "      <td>5936</td>\n",
       "      <td>2018-11-27 09:00:00</td>\n",
       "      <td>211883.0</td>\n",
       "      <td>1</td>\n",
       "      <td>0</td>\n",
       "    </tr>\n",
       "    <tr>\n",
       "      <td>5953</td>\n",
       "      <td>2018-11-26 15:00:00</td>\n",
       "      <td>197177.0</td>\n",
       "      <td>1</td>\n",
       "      <td>0</td>\n",
       "    </tr>\n",
       "    <tr>\n",
       "      <td>5958</td>\n",
       "      <td>2018-11-26 10:00:00</td>\n",
       "      <td>207901.0</td>\n",
       "      <td>1</td>\n",
       "      <td>1</td>\n",
       "    </tr>\n",
       "    <tr>\n",
       "      <td>5959</td>\n",
       "      <td>2018-11-26 09:00:00</td>\n",
       "      <td>199490.0</td>\n",
       "      <td>1</td>\n",
       "      <td>1</td>\n",
       "    </tr>\n",
       "  </tbody>\n",
       "</table>\n",
       "<p>927 rows × 4 columns</p>\n",
       "</div>"
      ],
      "text/plain": [
       "           Time Interval    Volume  Abnormal  Tweeted\n",
       "0    2019-12-02 12:00:00  151396.0         1        1\n",
       "1    2019-12-02 11:00:00  216579.0         1        1\n",
       "2    2019-12-02 10:00:00  479666.0         1        1\n",
       "3    2019-12-02 09:00:00  229054.0         1        1\n",
       "20   2019-11-29 12:00:00  210040.0         1        1\n",
       "...                  ...       ...       ...      ...\n",
       "5935 2018-11-27 10:00:00  247063.0         1        1\n",
       "5936 2018-11-27 09:00:00  211883.0         1        0\n",
       "5953 2018-11-26 15:00:00  197177.0         1        0\n",
       "5958 2018-11-26 10:00:00  207901.0         1        1\n",
       "5959 2018-11-26 09:00:00  199490.0         1        1\n",
       "\n",
       "[927 rows x 4 columns]"
      ]
     },
     "execution_count": 18,
     "metadata": {},
     "output_type": "execute_result"
    }
   ],
   "source": [
    "# Function that returns 1 if there was a significant tweet at most 2 hours later\n",
    "def Trump_tweeted(row):\n",
    "    start_time = row['Time Interval'] + pd.DateOffset(hours=1) \n",
    "    end_time = start_time + pd.DateOffset(hours=2)\n",
    "    tweet_interval = df_tweets[end_time:start_time]\n",
    "    tweet_count = len(tweet_interval.index)\n",
    "    if tweet_count > 0:\n",
    "        return 1\n",
    "    else: return 0\n",
    "    \n",
    "# Add a column that indicates whether there was a tweet witin the next two hours   \n",
    "df_hourly_abn[\"Tweeted\"] = df_hourly_abn.apply(lambda row: Trump_tweeted(row), axis=1)\n",
    "df_hourly_abn"
   ]
  },
  {
   "cell_type": "markdown",
   "metadata": {},
   "source": [
    "Now let's see what proportion of abnormal volumes were followed by at least one keyword containing Trump tweet within the next two hour period."
   ]
  },
  {
   "cell_type": "code",
   "execution_count": 19,
   "metadata": {},
   "outputs": [
    {
     "name": "stdout",
     "output_type": "stream",
     "text": [
      "Abnormal and followed by tweet:  0.5965480043149946\n",
      "Abnormal and not followed by tweet:  0.40345199568500545\n"
     ]
    }
   ],
   "source": [
    "prop_tweets = df_hourly_abn['Tweeted'].sum() / df_hourly_abn['Tweeted'].count()\n",
    "\n",
    "print('Abnormal and followed by tweet: ', prop_tweets)\n",
    "print('Abnormal and not followed by tweet: ', 1 - prop_tweets)"
   ]
  },
  {
   "cell_type": "markdown",
   "metadata": {},
   "source": [
    "The data indicates that nearly 60% of hourly volumes that were abnormal were followed by a significant tweet by President Trump. While this is no indicator of correlation, we see that tweets and spikes in volumes could, potentially, be related. \n",
    "\n",
    "Let's now visualize the distribution of both sets of abnormal volumes - one set that was followed by a tweet and the other set that was not followed by a tweet."
   ]
  },
  {
   "cell_type": "code",
   "execution_count": 20,
   "metadata": {},
   "outputs": [
    {
     "name": "stdout",
     "output_type": "stream",
     "text": [
      "Size of vol_tweets dataset:  553\n",
      "Size of vol_no_tweets dataset:  374\n"
     ]
    }
   ],
   "source": [
    "vol_tweets = df_hourly_abn[df_hourly_abn['Tweeted'] == 1]['Volume']\n",
    "vol_no_tweets = df_hourly_abn[df_hourly_abn['Tweeted'] == 0]['Volume']\n",
    "\n",
    "print('Size of vol_tweets dataset: ', vol_tweets.index.size)\n",
    "print('Size of vol_no_tweets dataset: ', vol_no_tweets.index.size)"
   ]
  },
  {
   "cell_type": "code",
   "execution_count": 21,
   "metadata": {},
   "outputs": [
    {
     "data": {
      "text/plain": [
       "Text(130731.80213903743, 1.0400086412632543e-05, 'Mean no tweets: 217886')"
      ]
     },
     "execution_count": 21,
     "metadata": {},
     "output_type": "execute_result"
    },
    {
     "data": {
      "image/png": "[encoded data removed]",
      "text/plain": [
       "<Figure size 1440x720 with 1 Axes>"
      ]
     },
     "metadata": {},
     "output_type": "display_data"
    }
   ],
   "source": [
    "# BLUE\n",
    "# Plot distribution of volumes followed by tweets\n",
    "plt.figure()\n",
    "ax1 = sns.distplot(vol_tweets)\n",
    "plt.axvline(np.mean(vol_tweets), color='b', linestyle='dashed', linewidth=2)\n",
    "_, xmax = plt.ylim()\n",
    "plt.text(vol_tweets.mean() + vol_tweets.mean() / 10, xmax - xmax / 10,\n",
    "        \"Mean tweets: {:.0f}\".format(vol_tweets.mean()),)\n",
    "\n",
    "# ORANGE\n",
    "# Plot distribution volumes that were not immediately followed by tweets\n",
    "ax2 = sns.distplot(vol_no_tweets)\n",
    "plt.axvline(np.mean(vol_no_tweets), color='orange', linestyle='dashed', linewidth=2)\n",
    "_, xmax = plt.ylim()\n",
    "plt.text(vol_no_tweets.mean() - vol_no_tweets.mean() / 2.5 , xmax - xmax / 10,\n",
    "        \"Mean no tweets: {:.0f}\".format(vol_no_tweets.mean()),)"
   ]
  },
  {
   "cell_type": "markdown",
   "metadata": {},
   "source": [
    "Although very similar, the two distributions above show that the mean of abnormal volumes followed by at least one significant tweet by President Trump within two hours have a slightly higher mean than the abnormal volumes that were not followed by a tweet.\n",
    "\n",
    "Now we can perform the independent t-test to see whether the two sets of volumes are statistically different or not.\n",
    "\n",
    "$H_o$: Volumes followed by a tweet and not followed by a tweet are the same\n",
    "\n",
    "$H_a$: Volumes followed by a tweet and not followed by a tweet are the different"
   ]
  },
  {
   "cell_type": "code",
   "execution_count": 22,
   "metadata": {},
   "outputs": [
    {
     "name": "stdout",
     "output_type": "stream",
     "text": [
      "Statistics=0.2874, p=0.7738\n",
      "Fail to reject H0: Volumes are the same\n"
     ]
    }
   ],
   "source": [
    "run_ttest_ind(vol_tweets, vol_no_tweets, 0.01, 'Volumes are the same', 'Volumes are different')"
   ]
  },
  {
   "cell_type": "markdown",
   "metadata": {},
   "source": [
    "The result of our independent t-test shows that the difference of the two datasets was not statistically significant. In fact, we got a very high p-value of 0.77. We therefore conclude that there is insufficient evidence to claim that individuals have tried to profit off of President Donald Trump's tweets."
   ]
  },
  {
   "cell_type": "markdown",
   "metadata": {},
   "source": [
    "## 4. Finding Keywords in Trump's Tweets\n",
    "\n",
    "While the t-test in the previous section showed that there is not enough evidence that the anticipation of President Trump's tweets (insider trading) is the main driver of abnormal trading volumes, we still believe that these tweets could have an impact on daily volumes traded. We will therefore try and find our own set of keywords similar to JP Morgan's that would classify Trump's tweets as market-moving. We define market-moving by the volumes traded, rather than the price value of the S&P 500. \n",
    "\n",
    "In this section, we will use daily volume data and conduct a logistic regression on it with Trump's tweets to see if there are certain keywords that lead to spikes in daily volumes. \n",
    "\n",
    "We begin by finding a set of means and standard deviations of daily volumes. When we first went about this, we decided to use one mean and one standard deviation over the period we were looking at. However, since the futures market is quite volatile, this gave us an enormous standard deviation that didn't allow us to pick up on abnormal trading days. We then tried calculating it year-by-year, but it still did not give us meaningful values. Therefore, we will calculate the mean and the standard deviation on a rolling basis, over each 15 day period, in order to pick up on the short term spikes and drops in volume.\n",
    "\n",
    "We also decided to use the period dating back to the end of 2012 to have more data points. Between 2012 and the start of his presidential campaign in June 2015, Trump had hinted at running for president a few times, so we thought the tweets sent during that time period were relevant to include in our analysis."
   ]
  },
  {
   "cell_type": "code",
   "execution_count": 23,
   "metadata": {},
   "outputs": [
    {
     "name": "stdout",
     "output_type": "stream",
     "text": [
      "Number of tweets:  38801\n",
      "Number of days with volume measures:  1744\n"
     ]
    }
   ],
   "source": [
    "df_daily_pres = df_daily[df_daily[\"Date\"] > pd.Timestamp(\"2012-12-10\")]\n",
    "df_daily_pres = df_daily_pres.sort_values(by=\"Date\")\n",
    "df_daily_pres[\"Mean\"] = df_daily_pres[\"Volume\"].rolling(15).mean()\n",
    "df_daily_pres[\"Std\"] = df_daily_pres[\"Volume\"].rolling(15).std()\n",
    "df_daily_pres = df_daily_pres.dropna()\n",
    "\n",
    "df_tweets_pres = df_all_tweets.loc[:\"2012-12-10\"]\n",
    "\n",
    "print('Number of tweets: ', df_tweets_pres.index.size)\n",
    "print('Number of days with volume measures: ', df_daily_pres.index.size)"
   ]
  },
  {
   "cell_type": "markdown",
   "metadata": {},
   "source": [
    "We will now compute all abnormal daily trading volumes during Trump's presidency. We will consider a volume abnormal if it is more than one 15-day rolling standard deviation away from the 15-day rolling mean. We will be considering both abnormally high and abnormally low volumes."
   ]
  },
  {
   "cell_type": "code",
   "execution_count": 24,
   "metadata": {
    "scrolled": false
   },
   "outputs": [
    {
     "name": "stdout",
     "output_type": "stream",
     "text": [
      "624\n"
     ]
    }
   ],
   "source": [
    "# Function that returns 1 if the volume is 1 std away\n",
    "def abnormal_volume(row):\n",
    "    mean = row[\"Mean\"]\n",
    "    std = row[\"Std\"]\n",
    "    if row[\"Volume\"] > mean + std or row[\"Volume\"] < mean - std:\n",
    "        return 1\n",
    "    else:\n",
    "        return 0\n",
    "    \n",
    "df_daily_pres[\"Abnormal\"] = df_daily_pres.apply(lambda row: abnormal_volume(row), axis=1)\n",
    "df_daily_pres['Date'] = pd.to_datetime(df_daily_pres['Date'], utc=True)\n",
    "print(df_daily_pres[\"Abnormal\"].sum())"
   ]
  },
  {
   "cell_type": "markdown",
   "metadata": {},
   "source": [
    "Let's see what proportion of days in this period were abnormal."
   ]
  },
  {
   "cell_type": "code",
   "execution_count": 25,
   "metadata": {},
   "outputs": [
    {
     "data": {
      "text/plain": [
       "0.3577981651376147"
      ]
     },
     "execution_count": 25,
     "metadata": {},
     "output_type": "execute_result"
    }
   ],
   "source": [
    "df_daily_pres['Abnormal'].sum() / df_daily_pres['Abnormal'].count()"
   ]
  },
  {
   "cell_type": "markdown",
   "metadata": {},
   "source": [
    "Just at a glance, there is a relatively large number of days where trading volumes were abnormal. We will now dive deeper into this and see if we can use what Trump tweeted that day to predict if a day will have an abnormal trading volume.\n",
    "\n",
    "Since Trump tweets several times per day, instead of looking at a single tweet, we will look at all tweets from that day. We will group our tweets dataframe by day and concatenate all tweets within the group. We will then go through these concatenated tweets and preprocess them. The preprocess function removes any apostrophes, punctuation, links, and stopwords. We will also check to see if the lemmatized word is in fact an english word."
   ]
  },
  {
   "cell_type": "code",
   "execution_count": 26,
   "metadata": {},
   "outputs": [
    {
     "data": {
      "text/html": [
       "<div>\n",
       "<style scoped>\n",
       "    .dataframe tbody tr th:only-of-type {\n",
       "        vertical-align: middle;\n",
       "    }\n",
       "\n",
       "    .dataframe tbody tr th {\n",
       "        vertical-align: top;\n",
       "    }\n",
       "\n",
       "    .dataframe thead th {\n",
       "        text-align: right;\n",
       "    }\n",
       "</style>\n",
       "<table border=\"1\" class=\"dataframe\">\n",
       "  <thead>\n",
       "    <tr style=\"text-align: right;\">\n",
       "      <th></th>\n",
       "      <th>created_at</th>\n",
       "      <th>text</th>\n",
       "    </tr>\n",
       "  </thead>\n",
       "  <tbody>\n",
       "    <tr>\n",
       "      <td>0</td>\n",
       "      <td>2012-12-11 00:00:00+00:00</td>\n",
       "      <td>good luck bob kraft coach bill tonight love wo...</td>\n",
       "    </tr>\n",
       "    <tr>\n",
       "      <td>1</td>\n",
       "      <td>2012-12-12 00:00:00+00:00</td>\n",
       "      <td>life life fragile success change anything succ...</td>\n",
       "    </tr>\n",
       "    <tr>\n",
       "      <td>2</td>\n",
       "      <td>2012-12-13 00:00:00+00:00</td>\n",
       "      <td>thanks sound great thanks true dopey never ban...</td>\n",
       "    </tr>\n",
       "    <tr>\n",
       "      <td>3</td>\n",
       "      <td>2012-12-14 00:00:00+00:00</td>\n",
       "      <td>windmill every country touch energy unreliable...</td>\n",
       "    </tr>\n",
       "    <tr>\n",
       "      <td>4</td>\n",
       "      <td>2012-12-15 00:00:00+00:00</td>\n",
       "      <td>horrible day country yesterday condolence fami...</td>\n",
       "    </tr>\n",
       "    <tr>\n",
       "      <td>...</td>\n",
       "      <td>...</td>\n",
       "      <td>...</td>\n",
       "    </tr>\n",
       "    <tr>\n",
       "      <td>2544</td>\n",
       "      <td>2019-11-29 00:00:00+00:00</td>\n",
       "      <td>thought wa business talk experience black voic...</td>\n",
       "    </tr>\n",
       "    <tr>\n",
       "      <td>2545</td>\n",
       "      <td>2019-11-30 00:00:00+00:00</td>\n",
       "      <td>small business create every net new job united...</td>\n",
       "    </tr>\n",
       "    <tr>\n",
       "      <td>2546</td>\n",
       "      <td>2019-12-01 00:00:00+00:00</td>\n",
       "      <td>sen say trump innocent way senate convict trum...</td>\n",
       "    </tr>\n",
       "    <tr>\n",
       "      <td>2547</td>\n",
       "      <td>2019-12-02 00:00:00+00:00</td>\n",
       "      <td>trump wa framed back correct maria never let h...</td>\n",
       "    </tr>\n",
       "    <tr>\n",
       "      <td>2548</td>\n",
       "      <td>2019-12-03 00:00:00+00:00</td>\n",
       "      <td>president denial quid pro quo trump military a...</td>\n",
       "    </tr>\n",
       "  </tbody>\n",
       "</table>\n",
       "<p>2491 rows × 2 columns</p>\n",
       "</div>"
      ],
      "text/plain": [
       "                    created_at  \\\n",
       "0    2012-12-11 00:00:00+00:00   \n",
       "1    2012-12-12 00:00:00+00:00   \n",
       "2    2012-12-13 00:00:00+00:00   \n",
       "3    2012-12-14 00:00:00+00:00   \n",
       "4    2012-12-15 00:00:00+00:00   \n",
       "...                        ...   \n",
       "2544 2019-11-29 00:00:00+00:00   \n",
       "2545 2019-11-30 00:00:00+00:00   \n",
       "2546 2019-12-01 00:00:00+00:00   \n",
       "2547 2019-12-02 00:00:00+00:00   \n",
       "2548 2019-12-03 00:00:00+00:00   \n",
       "\n",
       "                                                   text  \n",
       "0     good luck bob kraft coach bill tonight love wo...  \n",
       "1     life life fragile success change anything succ...  \n",
       "2     thanks sound great thanks true dopey never ban...  \n",
       "3     windmill every country touch energy unreliable...  \n",
       "4     horrible day country yesterday condolence fami...  \n",
       "...                                                 ...  \n",
       "2544  thought wa business talk experience black voic...  \n",
       "2545  small business create every net new job united...  \n",
       "2546  sen say trump innocent way senate convict trum...  \n",
       "2547  trump wa framed back correct maria never let h...  \n",
       "2548  president denial quid pro quo trump military a...  \n",
       "\n",
       "[2491 rows x 2 columns]"
      ]
     },
     "execution_count": 26,
     "metadata": {},
     "output_type": "execute_result"
    }
   ],
   "source": [
    "# Concat all tweets on same day\n",
    "df_tweets_pres = df_tweets_pres.groupby(pd.Grouper(freq='D'))[\"text\"].apply(lambda x: ' '.join(x)).reset_index()\n",
    "\n",
    "stopwords = set(nltk.corpus.stopwords.words('english'))\n",
    "words = set(nltk.corpus.words.words())\n",
    "\n",
    "def preprocess(text, words, stopwords={}, lemmatizer=nltk.stem.wordnet.WordNetLemmatizer()):\n",
    "    text = text.lower()\n",
    "\n",
    "    remove_s = text.replace(\"'s\", \"\")\n",
    "    remove_apostrophe = remove_s.replace(\"'\", \"\")\n",
    "\n",
    "    remove_apostrophe = re.sub(\"https?://t.co/[\\\\w]{10}\", \" \", remove_apostrophe)\n",
    "    remove_punctuation = ''.join(l if l in string.ascii_letters or l in string.digits else \" \" for l in remove_apostrophe)\n",
    "        \n",
    "    l = nltk.word_tokenize(remove_punctuation)\n",
    "    final = []\n",
    "    for i in l:\n",
    "        lem = lemmatizer.lemmatize(i)\n",
    "        if lem not in stopwords and lem in words:\n",
    "            final.append(lem)  \n",
    "    return(\" \".join(final))\n",
    "\n",
    "df_tweets_pres[\"text\"] = df_tweets_pres[\"text\"].apply(lambda x: preprocess(x, words, stopwords))\n",
    "df_tweets_pres = df_tweets_pres[df_tweets_pres[\"text\"] != \"\"]\n",
    "df_tweets_pres"
   ]
  },
  {
   "cell_type": "markdown",
   "metadata": {},
   "source": [
    "Great! Now that we have a preprocessed dataframe of tweets and a dataframe of daily volumes. Let's merge them together so that each daily volume corresponds to a prepocessed list of words of all of Trump's tweets from that day."
   ]
  },
  {
   "cell_type": "code",
   "execution_count": 27,
   "metadata": {},
   "outputs": [
    {
     "data": {
      "text/html": [
       "<div>\n",
       "<style scoped>\n",
       "    .dataframe tbody tr th:only-of-type {\n",
       "        vertical-align: middle;\n",
       "    }\n",
       "\n",
       "    .dataframe tbody tr th {\n",
       "        vertical-align: top;\n",
       "    }\n",
       "\n",
       "    .dataframe thead th {\n",
       "        text-align: right;\n",
       "    }\n",
       "</style>\n",
       "<table border=\"1\" class=\"dataframe\">\n",
       "  <thead>\n",
       "    <tr style=\"text-align: right;\">\n",
       "      <th></th>\n",
       "      <th>Date</th>\n",
       "      <th>Last Price</th>\n",
       "      <th>Volume</th>\n",
       "      <th>Mean</th>\n",
       "      <th>Std</th>\n",
       "      <th>Abnormal</th>\n",
       "      <th>created_at</th>\n",
       "      <th>text</th>\n",
       "    </tr>\n",
       "  </thead>\n",
       "  <tbody>\n",
       "    <tr>\n",
       "      <td>0</td>\n",
       "      <td>2013-01-02 00:00:00+00:00</td>\n",
       "      <td>1457.00</td>\n",
       "      <td>1939320</td>\n",
       "      <td>1.072311e+06</td>\n",
       "      <td>636005.586733</td>\n",
       "      <td>1</td>\n",
       "      <td>2013-01-02 00:00:00+00:00</td>\n",
       "      <td>terrible deal country embarrassment republican...</td>\n",
       "    </tr>\n",
       "    <tr>\n",
       "      <td>1</td>\n",
       "      <td>2013-01-03 00:00:00+00:00</td>\n",
       "      <td>1453.50</td>\n",
       "      <td>1598235</td>\n",
       "      <td>1.060713e+06</td>\n",
       "      <td>623800.241630</td>\n",
       "      <td>0</td>\n",
       "      <td>2013-01-03 00:00:00+00:00</td>\n",
       "      <td>dont let get winner third party tough total me...</td>\n",
       "    </tr>\n",
       "    <tr>\n",
       "      <td>2</td>\n",
       "      <td>2013-01-04 00:00:00+00:00</td>\n",
       "      <td>1457.75</td>\n",
       "      <td>1509781</td>\n",
       "      <td>1.039380e+06</td>\n",
       "      <td>600664.101397</td>\n",
       "      <td>0</td>\n",
       "      <td>2013-01-04 00:00:00+00:00</td>\n",
       "      <td>thank true great nobody say love thanks jack h...</td>\n",
       "    </tr>\n",
       "    <tr>\n",
       "      <td>3</td>\n",
       "      <td>2013-01-07 00:00:00+00:00</td>\n",
       "      <td>1455.75</td>\n",
       "      <td>1189020</td>\n",
       "      <td>9.886242e+05</td>\n",
       "      <td>548050.097728</td>\n",
       "      <td>0</td>\n",
       "      <td>2013-01-07 00:00:00+00:00</td>\n",
       "      <td>thank work hard hi morgan good luck interview ...</td>\n",
       "    </tr>\n",
       "    <tr>\n",
       "      <td>4</td>\n",
       "      <td>2013-01-08 00:00:00+00:00</td>\n",
       "      <td>1452.25</td>\n",
       "      <td>1366989</td>\n",
       "      <td>1.010300e+06</td>\n",
       "      <td>556667.626742</td>\n",
       "      <td>0</td>\n",
       "      <td>2013-01-08 00:00:00+00:00</td>\n",
       "      <td>great true thanks true yes send address great ...</td>\n",
       "    </tr>\n",
       "    <tr>\n",
       "      <td>...</td>\n",
       "      <td>...</td>\n",
       "      <td>...</td>\n",
       "      <td>...</td>\n",
       "      <td>...</td>\n",
       "      <td>...</td>\n",
       "      <td>...</td>\n",
       "      <td>...</td>\n",
       "      <td>...</td>\n",
       "    </tr>\n",
       "    <tr>\n",
       "      <td>1728</td>\n",
       "      <td>2019-11-25 00:00:00+00:00</td>\n",
       "      <td>3132.75</td>\n",
       "      <td>947831</td>\n",
       "      <td>1.165979e+06</td>\n",
       "      <td>211034.893462</td>\n",
       "      <td>1</td>\n",
       "      <td>2019-11-25 00:00:00+00:00</td>\n",
       "      <td>unconventional bad thing heck fantastic read p...</td>\n",
       "    </tr>\n",
       "    <tr>\n",
       "      <td>1729</td>\n",
       "      <td>2019-11-26 00:00:00+00:00</td>\n",
       "      <td>3143.75</td>\n",
       "      <td>1068011</td>\n",
       "      <td>1.162232e+06</td>\n",
       "      <td>212324.420213</td>\n",
       "      <td>0</td>\n",
       "      <td>2019-11-26 00:00:00+00:00</td>\n",
       "      <td>president animal cruelty torture pact act law ...</td>\n",
       "    </tr>\n",
       "    <tr>\n",
       "      <td>1730</td>\n",
       "      <td>2019-11-27 00:00:00+00:00</td>\n",
       "      <td>3153.75</td>\n",
       "      <td>928792</td>\n",
       "      <td>1.152363e+06</td>\n",
       "      <td>219883.638126</td>\n",
       "      <td>1</td>\n",
       "      <td>2019-11-27 00:00:00+00:00</td>\n",
       "      <td>official aid country werent giving thank god b...</td>\n",
       "    </tr>\n",
       "    <tr>\n",
       "      <td>1731</td>\n",
       "      <td>2019-11-29 00:00:00+00:00</td>\n",
       "      <td>3143.75</td>\n",
       "      <td>902189</td>\n",
       "      <td>1.122287e+06</td>\n",
       "      <td>221280.976508</td>\n",
       "      <td>0</td>\n",
       "      <td>2019-11-29 00:00:00+00:00</td>\n",
       "      <td>thought wa business talk experience black voic...</td>\n",
       "    </tr>\n",
       "    <tr>\n",
       "      <td>1732</td>\n",
       "      <td>2019-12-02 00:00:00+00:00</td>\n",
       "      <td>3114.75</td>\n",
       "      <td>1331642</td>\n",
       "      <td>1.139053e+06</td>\n",
       "      <td>227305.821378</td>\n",
       "      <td>0</td>\n",
       "      <td>2019-12-02 00:00:00+00:00</td>\n",
       "      <td>trump wa framed back correct maria never let h...</td>\n",
       "    </tr>\n",
       "  </tbody>\n",
       "</table>\n",
       "<p>1733 rows × 8 columns</p>\n",
       "</div>"
      ],
      "text/plain": [
       "                          Date  Last Price   Volume          Mean  \\\n",
       "0    2013-01-02 00:00:00+00:00     1457.00  1939320  1.072311e+06   \n",
       "1    2013-01-03 00:00:00+00:00     1453.50  1598235  1.060713e+06   \n",
       "2    2013-01-04 00:00:00+00:00     1457.75  1509781  1.039380e+06   \n",
       "3    2013-01-07 00:00:00+00:00     1455.75  1189020  9.886242e+05   \n",
       "4    2013-01-08 00:00:00+00:00     1452.25  1366989  1.010300e+06   \n",
       "...                        ...         ...      ...           ...   \n",
       "1728 2019-11-25 00:00:00+00:00     3132.75   947831  1.165979e+06   \n",
       "1729 2019-11-26 00:00:00+00:00     3143.75  1068011  1.162232e+06   \n",
       "1730 2019-11-27 00:00:00+00:00     3153.75   928792  1.152363e+06   \n",
       "1731 2019-11-29 00:00:00+00:00     3143.75   902189  1.122287e+06   \n",
       "1732 2019-12-02 00:00:00+00:00     3114.75  1331642  1.139053e+06   \n",
       "\n",
       "                Std  Abnormal                created_at  \\\n",
       "0     636005.586733         1 2013-01-02 00:00:00+00:00   \n",
       "1     623800.241630         0 2013-01-03 00:00:00+00:00   \n",
       "2     600664.101397         0 2013-01-04 00:00:00+00:00   \n",
       "3     548050.097728         0 2013-01-07 00:00:00+00:00   \n",
       "4     556667.626742         0 2013-01-08 00:00:00+00:00   \n",
       "...             ...       ...                       ...   \n",
       "1728  211034.893462         1 2019-11-25 00:00:00+00:00   \n",
       "1729  212324.420213         0 2019-11-26 00:00:00+00:00   \n",
       "1730  219883.638126         1 2019-11-27 00:00:00+00:00   \n",
       "1731  221280.976508         0 2019-11-29 00:00:00+00:00   \n",
       "1732  227305.821378         0 2019-12-02 00:00:00+00:00   \n",
       "\n",
       "                                                   text  \n",
       "0     terrible deal country embarrassment republican...  \n",
       "1     dont let get winner third party tough total me...  \n",
       "2     thank true great nobody say love thanks jack h...  \n",
       "3     thank work hard hi morgan good luck interview ...  \n",
       "4     great true thanks true yes send address great ...  \n",
       "...                                                 ...  \n",
       "1728  unconventional bad thing heck fantastic read p...  \n",
       "1729  president animal cruelty torture pact act law ...  \n",
       "1730  official aid country werent giving thank god b...  \n",
       "1731  thought wa business talk experience black voic...  \n",
       "1732  trump wa framed back correct maria never let h...  \n",
       "\n",
       "[1733 rows x 8 columns]"
      ]
     },
     "execution_count": 27,
     "metadata": {},
     "output_type": "execute_result"
    }
   ],
   "source": [
    "df_merged = pd.merge(left = df_daily_pres, right = df_tweets_pres, \n",
    "                  how = \"inner\", left_on = \"Date\", right_on = \"created_at\")\n",
    "df_merged"
   ]
  },
  {
   "cell_type": "markdown",
   "metadata": {},
   "source": [
    "Using this merged dataframe, we will now conduct a Logistic Regression to try and classify whether certain days will have abnormal volumes based on the specific words of Trump's tweets. We begin by finding the inverse document frequency of words."
   ]
  },
  {
   "cell_type": "code",
   "execution_count": 28,
   "metadata": {},
   "outputs": [],
   "source": [
    "tfidf = TfidfVectorizer(analyzer='word', max_features = 100)\n",
    "train_matrix = tfidf.fit_transform(df_merged[\"text\"])"
   ]
  },
  {
   "cell_type": "markdown",
   "metadata": {},
   "source": [
    "We can now use this inverse document frequency sparse matrix to conduct the logistic regression. Here, we split the data into the training, validation, and test sets."
   ]
  },
  {
   "cell_type": "code",
   "execution_count": 29,
   "metadata": {},
   "outputs": [],
   "source": [
    "x, xtest, y, ytest = train_test_split(train_matrix.toarray(), df_merged[\"Abnormal\"], test_size = 0.2)\n",
    "xtrain, xcv, ytrain, ycv = train_test_split(x, y, test_size = 0.2)"
   ]
  },
  {
   "cell_type": "markdown",
   "metadata": {},
   "source": [
    "We will now perform the logistic regression on the training set. One thing to note is we need to make sure that we balance the weights of the days with and without abnormal trading volumes to ensure that the days without abnormal volumes don't overpower the abnormal volume days. We will then fit the logistic regression on the training data and try to predict the validation and test data."
   ]
  },
  {
   "cell_type": "code",
   "execution_count": 30,
   "metadata": {},
   "outputs": [],
   "source": [
    "reg = LogisticRegression(C = 0.1, solver = \"lbfgs\", class_weight = \"balanced\")\n",
    "reg.fit(xtrain, ytrain)\n",
    "reg_pred_cv = reg.predict(xcv)\n",
    "reg_pred_test = reg.predict(xtest)"
   ]
  },
  {
   "cell_type": "markdown",
   "metadata": {},
   "source": [
    "Let's see how accurate our regression is. "
   ]
  },
  {
   "cell_type": "code",
   "execution_count": 31,
   "metadata": {},
   "outputs": [
    {
     "name": "stdout",
     "output_type": "stream",
     "text": [
      "F1-score of cross validation for Logistic Regression:  0.40909090909090906\n",
      "F1-score of test for Logistic Regression:  0.49826989619377154\n"
     ]
    }
   ],
   "source": [
    "print(\"F1-score of cross validation for Logistic Regression: \", f1_score(ycv, reg_pred_cv))\n",
    "print(\"F1-score of test for Logistic Regression: \", f1_score(ytest, reg_pred_test))"
   ]
  },
  {
   "cell_type": "markdown",
   "metadata": {},
   "source": [
    "After running the Logistic Regression a few times, we noticed that the F1-score for the cross validation set and test set hovered around 0.40. This value is around where we anticipated it to be since there are many other factors that influence the futures market. \n",
    "\n",
    "Had the F1-score been much higher, this could be an indication that Trump's tweets play a major role in moving futures markets, which is not true. Some of the other factors that play a role in volumes include Federal Reserve rate decisions, foreign developments such as Brexit or OPEC decisions, or simply economic indicators being released that point to the direction the US economy is heading. \n",
    "\n",
    "Trump's tweets alone don't account for all of the variation in the futures trading volumes. Nonetheless, it does appear that some of his tweets may have an impact on the market. The Logistic Regression did a decent job picking out days that had an abnormal volume and shows that Trump may have some influence on trading volumes.\n",
    "\n",
    "Using the Logistic Regression, let's see what keywords made a significant impact on abnormal volume days."
   ]
  },
  {
   "cell_type": "code",
   "execution_count": 32,
   "metadata": {},
   "outputs": [
    {
     "data": {
      "text/plain": [
       "[('back', 0.23924071966221785),\n",
       " ('better', 0.23768391217202225),\n",
       " ('going', 0.2267434493440858),\n",
       " ('run', 0.21908039332050958),\n",
       " ('bad', -0.20271604854556632),\n",
       " ('hard', -0.19971350471850885),\n",
       " ('forward', 0.19115803828175926),\n",
       " ('best', 0.18410299961336973),\n",
       " ('show', 0.18125204691676977),\n",
       " ('via', 0.17523994921161085),\n",
       " ('course', -0.17312566900425552),\n",
       " ('job', -0.15715738747421695),\n",
       " ('money', -0.15680132392943327),\n",
       " ('know', 0.153554426825454),\n",
       " ('many', -0.14989600358384642),\n",
       " ('much', 0.14671572631009816),\n",
       " ('ever', 0.14649116691994263),\n",
       " ('watch', -0.14611757314726687),\n",
       " ('like', -0.145872455586814),\n",
       " ('come', 0.14424091722966104)]"
      ]
     },
     "execution_count": 32,
     "metadata": {},
     "output_type": "execute_result"
    }
   ],
   "source": [
    "features = sorted(zip(tfidf.get_feature_names(), reg.coef_[0]), key = lambda x : abs(x[1]), reverse = True)[:20]\n",
    "features"
   ]
  },
  {
   "cell_type": "markdown",
   "metadata": {},
   "source": [
    "It's interesting to see some of the overlap between our keywords and JP Morgan's top 20 keywords. To get a better idea of how our Logistic Regression does compared to JP Morgan, let's run it 100 times and count the top 20 features for each run."
   ]
  },
  {
   "cell_type": "code",
   "execution_count": 33,
   "metadata": {},
   "outputs": [
    {
     "name": "stdout",
     "output_type": "stream",
     "text": [
      "Done\n"
     ]
    }
   ],
   "source": [
    "d = dict()\n",
    "l = []\n",
    "for i in range(100):\n",
    "    tfidf = TfidfVectorizer(analyzer='word', max_features = 100)\n",
    "    train_matrix = tfidf.fit_transform(df_merged[\"text\"])\n",
    "    \n",
    "    x, xtest, y, ytest = train_test_split(train_matrix.toarray(), df_merged[\"Abnormal\"], test_size = 0.2)\n",
    "    xtrain, xcv, ytrain, ycv = train_test_split(x, y, test_size = 0.2)\n",
    "    \n",
    "    reg = LogisticRegression(C = 0.1, solver = \"lbfgs\", class_weight = \"balanced\")\n",
    "    reg.fit(xtrain, ytrain)\n",
    "    pred = reg.predict(xcv)\n",
    "    pred1 = reg.predict(xtest)\n",
    "\n",
    "    features = sorted(zip(tfidf.get_feature_names(), reg.coef_[0]), key = lambda x : abs(x[1]), reverse = True)[:20]\n",
    "    for (i, j) in features:\n",
    "        if i in d:\n",
    "            d[i] += 1\n",
    "        else:\n",
    "            d[i] = 1\n",
    "    \n",
    "print(\"Done\")"
   ]
  },
  {
   "cell_type": "markdown",
   "metadata": {},
   "source": [
    "Now let's visualize these keywords and see which ones come up as most frequent."
   ]
  },
  {
   "cell_type": "code",
   "execution_count": 34,
   "metadata": {},
   "outputs": [
    {
     "name": "stdout",
     "output_type": "stream",
     "text": [
      "20% of the top 20 words found were keywords in JP Morgan's index\n"
     ]
    },
    {
     "data": {
      "image/png": "[encoded data removed]",
      "text/plain": [
       "<Figure size 1440x720 with 1 Axes>"
      ]
     },
     "metadata": {},
     "output_type": "display_data"
    }
   ],
   "source": [
    "hist = sorted(list(d.items()), key = lambda x : x[1], reverse = True)[:20]\n",
    "hist_df = pd.DataFrame(hist)\n",
    "hist_df.columns = [\"Words\", \"Counts\"]\n",
    "\n",
    "# Plot distribution of words\n",
    "plt.figure()\n",
    "ax1 = sns.barplot(x = \"Words\", y = \"Counts\", data = hist_df)\n",
    "\n",
    "count_jp = 0\n",
    "for i, j in hist:\n",
    "    for k in keywords:\n",
    "        if k.startswith(i):\n",
    "            count_jp += 1\n",
    "\n",
    "print(str(int(100 * count_jp/len(hist))) + \"% of the top \" + str(len(hist)) + \" words found were keywords in JP Morgan's index\")"
   ]
  },
  {
   "cell_type": "markdown",
   "metadata": {},
   "source": [
    "## 5. Concluding Remarks\n",
    "Our analysis of the question **Are Individuals Attempting to Profit off of President Trump's Tweets in a Meaningful Way?** resulted in a framework that could go beyond this project. \n",
    "\n",
    "We began our analysis with an overview of the S&P 500 futures market trading volumes throughout this past decade. Interestingly, we found that the volumes have significantly decreased. \n",
    "\n",
    "We then conducted a hypothesis test to see if there was evidence in the data of investors attempting to make significant profits off of Trump's tweets using the S&P 500 futures securities. We failed to reject our $H_o$, concluding that there is insufficient evidence that the abnormal trading volumes could be driven by an anticipation of a market-moving tweet by President Trump. Such a conclusion is not surprising as there are many factors that affect both futures prices and futures volumes traded. It would be very surprising if we were able to determine that Trump's tweets are the single main factor that drives the changes in volumes traded of this specific security, and we were very eager to see if there was such a possibility. The S&P 500 futures is also by no means the only security that could have been used to test our hypothesis. We chose it because it was the center of discussion in [Vanity Fair's article](https://www.vanityfair.com/news/2019/10/the-mystery-of-the-trump-chaos-trades). Some other interesting securities to take a look at are the [SPY](https://investorplace.com/2019/11/pay-attention-to-spy-etf/) or [IVV](https://www.nasdaq.com/articles/ishares-core-sp-500-etf-experiences-big-outflow-2019-11-15) ETFs (exchange-traded funds), both of which track the S&P 500 index.\n",
    "\n",
    "We concluded our analysis by using a Logistic Regression to find a set of keywords in President Trump's tweets that are impacting futures volumes traded. This provided some insight into how some of the larger banks like JP Morgan are trying to pick up on different trends that impact the market, like keywords in tweets, to get an edge over their competitors. While we found keywords that have the most impact in predicting abnormal S&P 500 futures volumes traded, JP Morgan created the [Volfefe Index](https://www.bloomberg.com/news/articles/2019-09-09/jpmorgan-creates-volfefe-index-to-track-trump-tweet-impact) to track the impact of Trump's tweets on Treasury yields, and generated the most impactful keywords for that purpose. \n",
    "\n",
    "Overall, data analysis has significant importance in the financial markets. Any market insight derived from data analysis could give the company a significant edge over its competitors. [Here](https://www.bloomberg.com/professional/blog/3-ways-big-data-changing-financial-trading/) is an interesting reading on how banks are using big data in trading. [Here](https://data-flair.training/blogs/data-science-in-finance/) Data Flair discusses some of the most impactful ways data science is used in the finance field overall. Parts 6 and 7 - Fraud Detection and Algorithmic Trading - stand out in particular. In fact, fraud detection is often based on identifying abnormalities, which was one of the goals of our project, as well.\n",
    "\n",
    "\n",
    "Thank you!"
   ]
  }
 ],
 "metadata": {
  "kernelspec": {
   "display_name": "Python 3",
   "language": "python",
   "name": "python3"
  },
  "language_info": {
   "codemirror_mode": {
    "name": "ipython",
    "version": 3
   },
   "file_extension": ".py",
   "mimetype": "text/x-python",
   "name": "python",
   "nbconvert_exporter": "python",
   "pygments_lexer": "ipython3",
   "version": "3.7.3"
  }
 },
 "nbformat": 4,
 "nbformat_minor": 2
}
