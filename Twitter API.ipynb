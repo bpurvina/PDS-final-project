{
 "cells": [
  {
   "cell_type": "code",
   "execution_count": 1,
   "metadata": {},
   "outputs": [],
   "source": [
    "import twitter\n",
    "import time\n",
    "import json\n",
    "import pandas as pd"
   ]
  },
  {
   "cell_type": "code",
   "execution_count": 2,
   "metadata": {},
   "outputs": [],
   "source": [
    "api = twitter.Api(consumer_key='63OXDe6Eeff2PKi4ESCiCbG5o',\n",
    "  consumer_secret='CnTGeMkEof4v4Er1NOSN9kaS2YKt4MQEDOYhJFCakr4EhpHVYA',\n",
    "  access_token_key='1043973655-Fs23fWE819tN3anFwDFZbAWXZHGU8DetouiOKVt',\n",
    "  access_token_secret='u3gmq4fCpUHaL3KERBgMtqPCYs0vFgvK7DdDBfKgoQUNF')"
   ]
  },
  {
   "cell_type": "code",
   "execution_count": 3,
   "metadata": {},
   "outputs": [
    {
     "data": {
      "text/plain": [
       "User(ID=1043973655, ScreenName=Beataa_bibii)"
      ]
     },
     "execution_count": 3,
     "metadata": {},
     "output_type": "execute_result"
    }
   ],
   "source": [
    "api.VerifyCredentials()"
   ]
  },
  {
   "cell_type": "code",
   "execution_count": 4,
   "metadata": {},
   "outputs": [],
   "source": [
    "# Get first batch of most recent tweets\n",
    "t = api.GetUserTimeline(screen_name=\"realDonaldTrump\", count=200) # include replies and retweet\n",
    "tweets = [i.AsDict() for i in t]\n",
    "\n",
    "last = tweets.pop()\n",
    "tid = last['id']"
   ]
  },
  {
   "cell_type": "code",
   "execution_count": 5,
   "metadata": {},
   "outputs": [
    {
     "name": "stdout",
     "output_type": "stream",
     "text": [
      "Returned None\n",
      "597\n"
     ]
    }
   ],
   "source": [
    "get = True\n",
    "all_tweets = tweets\n",
    "\n",
    "# Get the rest of the tweets\n",
    "while get:\n",
    "    t = api.GetUserTimeline(screen_name=\"realDonaldTrump\", count=200, max_id=tid) # include replies and retweets\n",
    "    tweets_new = [i.AsDict() for i in t]\n",
    "    if len(tweets_new) == 0:\n",
    "        print('Returned None')\n",
    "        break\n",
    "    last = tweets_new.pop()\n",
    "    tid = last['id']\n",
    "    if len(tweets_new) == 0:\n",
    "        get = False\n",
    "        tweets_new = [last]\n",
    "    time.sleep(2)\n",
    "    all_tweets += tweets_new\n",
    "    \n",
    "print(len(all_tweets))"
   ]
  },
  {
   "cell_type": "code",
   "execution_count": 6,
   "metadata": {},
   "outputs": [],
   "source": [
    "with open('tweets', 'w') as fout:\n",
    "    json.dump(all_tweets, fout)"
   ]
  }
 ],
 "metadata": {
  "kernelspec": {
   "display_name": "Python 3",
   "language": "python",
   "name": "python3"
  },
  "language_info": {
   "codemirror_mode": {
    "name": "ipython",
    "version": 3
   },
   "file_extension": ".py",
   "mimetype": "text/x-python",
   "name": "python",
   "nbconvert_exporter": "python",
   "pygments_lexer": "ipython3",
   "version": "3.7.3"
  }
 },
 "nbformat": 4,
 "nbformat_minor": 2
}
